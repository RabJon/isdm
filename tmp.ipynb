{
 "cells": [
  {
   "cell_type": "code",
   "execution_count": null,
   "metadata": {},
   "outputs": [],
   "source": [
    "import os\n",
    "import numpy as np\n",
    "import skimage.io as io\n",
    "from balancer import get_class_counts_frequencies, balance\n",
    "from matplotlib import pyplot as plt"
   ]
  },
  {
   "cell_type": "code",
   "execution_count": null,
   "metadata": {},
   "outputs": [],
   "source": [
    "def plot_class_hist(y_masks, num_defects, save_path = None):\n",
    "    if len(y_masks) == num_defects:\n",
    "        counts = y_masks\n",
    "    else:\n",
    "        counts = get_class_counts_frequencies(y_masks, num_defects, with_ejection_class= False)[0]\n",
    "    plt.ylabel(\"Number of Pixels\")\n",
    "    plt.xlabel(\"Defect Class\")\n",
    "    plt.xticks(rotation = 90)\n",
    "    x_axis = range(1, num_defects+1)\n",
    "    bars = plt.bar(x_axis, counts)\n",
    "    plt.bar_label(bars)\n",
    "    block = True\n",
    "    if save_path:\n",
    "        block = False\n",
    "    plt.show(block=block)\n",
    "\n",
    "    if save_path is not None:\n",
    "        plt.savefig(save_path, bbox_inches = \"tight\")\n",
    "        plt.close()\n",
    "    "
   ]
  },
  {
   "cell_type": "code",
   "execution_count": null,
   "metadata": {},
   "outputs": [],
   "source": [
    "orig_mask_data_dir = \"/home/icon/shared_folders/streit/Jonas/2024-03-06_All_Samples_as_PNGs/train/masks\"\n",
    "orig_mask_paths = [os.path.join(orig_mask_data_dir, fn) for fn in  os.listdir(orig_mask_data_dir) if fn.endswith(\".png\")]\n",
    "balanced_file_indices = balance(orig_mask_paths, 10000, 15, 128, 128, based_on_generated_data_only=True)"
   ]
  },
  {
   "cell_type": "code",
   "execution_count": null,
   "metadata": {},
   "outputs": [],
   "source": [
    "values, counts = np.unique(balanced_file_indices, return_counts=True)"
   ]
  },
  {
   "cell_type": "code",
   "execution_count": null,
   "metadata": {},
   "outputs": [],
   "source": [
    "len(values)"
   ]
  },
  {
   "cell_type": "code",
   "execution_count": null,
   "metadata": {},
   "outputs": [],
   "source": [
    "np.max(counts)"
   ]
  },
  {
   "cell_type": "code",
   "execution_count": null,
   "metadata": {},
   "outputs": [],
   "source": [
    "np.min(counts)"
   ]
  },
  {
   "cell_type": "code",
   "execution_count": null,
   "metadata": {},
   "outputs": [],
   "source": [
    "plot_class_hist(orig_masks[balanced_file_indices], 14)"
   ]
  },
  {
   "cell_type": "code",
   "execution_count": null,
   "metadata": {},
   "outputs": [],
   "source": [
    "np.unique(orig_masks, return_counts=True)[1]"
   ]
  },
  {
   "cell_type": "code",
   "execution_count": null,
   "metadata": {},
   "outputs": [],
   "source": [
    "mask_dir = \"RESULTS/20240315-194356_sample_2024-03-06_All_Samples_as_PNGs_d=300_c=15_samples=10000_model=ema_0.9999_053460.pt_s=1.5/good/labels\"\n",
    "mask_paths = [os.path.join(mask_dir, fn) for fn in  os.listdir(mask_dir)]\n",
    "masks = np.zeros((len(mask_paths), 128, 128), np.uint8)\n",
    "\n",
    "for i,p in enumerate(mask_paths):\n",
    "    mask = (io.imread(p, as_gray=True) * 255).astype(np.uint8)\n",
    "    masks[i] = mask"
   ]
  },
  {
   "cell_type": "code",
   "execution_count": null,
   "metadata": {},
   "outputs": [],
   "source": [
    "plot_class_hist(masks, 14)"
   ]
  },
  {
   "cell_type": "code",
   "execution_count": null,
   "metadata": {},
   "outputs": [],
   "source": [
    "plot_class_hist(masks, 14)"
   ]
  },
  {
   "cell_type": "code",
   "execution_count": null,
   "metadata": {},
   "outputs": [],
   "source": [
    "np.unique(masks, return_counts=True)"
   ]
  },
  {
   "cell_type": "code",
   "execution_count": null,
   "metadata": {},
   "outputs": [],
   "source": [
    "plot_class_hist([1947398,    402390,    459769,    833356,   1825384,\n",
    "           721963,    264016,    864246,    131367,    344145,    563285,\n",
    "          1857278,     20254,    271240], 14)"
   ]
  },
  {
   "cell_type": "code",
   "execution_count": null,
   "metadata": {},
   "outputs": [],
   "source": [
    "\n",
    "import cv2\n",
    "import numpy as np\n",
    "\n",
    "def is_blueish(image_path):\n",
    "    # Read the image\n",
    "    image = cv2.imread(image_path)\n",
    "\n",
    "    # Convert image to HSV color space\n",
    "    hsv_image = cv2.cvtColor(image, cv2.COLOR_BGR2HSV)\n",
    "\n",
    "    # Define lower and upper thresholds for darkness and blueness\n",
    "    # dark_lower = np.array([0, 50, 50], dtype=np.uint8)  # Adjusted for dark brownish or dark violet\n",
    "    # dark_upper = np.array([30, 255, 50], dtype=np.uint8)  # Adjusted for dark brownish or dark violet\n",
    "    blue_lower = np.array([100, 50, 50], dtype=np.uint8)\n",
    "    blue_upper = np.array([140, 255, 255], dtype=np.uint8)\n",
    "\n",
    "    # Create masks to filter out dark and blueish regions\n",
    "    # dark_mask = cv2.inRange(hsv_image, dark_lower, dark_upper)\n",
    "    blue_mask = cv2.inRange(hsv_image, blue_lower, blue_upper)\n",
    "\n",
    "    # Check if there are dark or blueish pixels in the image\n",
    "    # dark_pixels = cv2.countNonZero(dark_mask)\n",
    "    blue_pixels = cv2.countNonZero(blue_mask)\n",
    "\n",
    "    num_image_pixels = image.shape[0] * image.shape[1]\n",
    "    # Determine if the image is very dark or very blueish\n",
    "    # if dark_pixels > (num_image_pixels//2) or blue_pixels > (num_image_pixels // 2):\n",
    "    if blue_pixels > (num_image_pixels // 2):\n",
    "        return True\n",
    "    else:\n",
    "        return False\n",
    "\n",
    "\n",
    "def is_dark(image_path):\n",
    "    # Read the image\n",
    "    image = cv2.imread(image_path, cv2.IMREAD_GRAYSCALE)\n",
    "\n",
    "    # Calculate histogram\n",
    "    hist = cv2.calcHist([image], [0], None, [256], [0, 256])\n",
    "\n",
    "    # Calculate total number of pixels\n",
    "    total_pixels = image.shape[0] * image.shape[1]\n",
    "\n",
    "    # Calculate cumulative histogram\n",
    "    cumulative_hist = np.cumsum(hist)\n",
    "\n",
    "    # Calculate cumulative percentage\n",
    "    cumulative_percentage = cumulative_hist / total_pixels\n",
    "\n",
    "    is_dark = np.argmax(cumulative_percentage > 0.8) < 65 #80 percent of pixels have value below 75\n",
    "    \n",
    "    return is_dark\n",
    "\n",
    "\n",
    "def is_overexposed(image_path, threshold=240):\n",
    "    \"\"\"\n",
    "    Determines if an image is overexposed by checking if a significant portion of the image is saturated.\n",
    "    \n",
    "    Args:\n",
    "    - image_path (str): Path to the image file.\n",
    "    - threshold (int): Threshold for pixel intensity (0-255). Pixels with intensity above this threshold are considered saturated.\n",
    "    \n",
    "    Returns:\n",
    "    - bool: True if the image is overexposed, False otherwise.\n",
    "    \"\"\"\n",
    "    # Load the image\n",
    "    image = cv2.imread(image_path)\n",
    "\n",
    "    # Convert the image to grayscale\n",
    "    gray_image = cv2.cvtColor(image, cv2.COLOR_BGR2GRAY)\n",
    "\n",
    "    # Count the number of pixels above the threshold\n",
    "    num_saturated_pixels = cv2.countNonZero(cv2.inRange(gray_image, threshold, 255))\n",
    "\n",
    "    # Calculate the ratio of saturated pixels to total pixels\n",
    "    total_pixels = gray_image.size\n",
    "    saturation_ratio = num_saturated_pixels / total_pixels\n",
    "\n",
    "    # If the ratio is above a certain threshold, consider the image overexposed\n",
    "    overexposed_threshold = 0.05  # You can adjust this threshold as needed\n",
    "    return saturation_ratio > overexposed_threshold\n",
    "\n",
    "\n",
    "def check_image(image_path, brightness_threshold = 240, undersaturation_threshold = 50):\n",
    "\n",
    "    status = \"ok\"\n",
    "\n",
    "    ################################################################\n",
    "    # Check overexposition\n",
    "    ################################################################\n",
    "    image = cv2.imread(image_path)\n",
    "\n",
    "    # Convert the image to grayscale\n",
    "    gray_image = cv2.cvtColor(image, cv2.COLOR_BGR2GRAY)\n",
    "\n",
    "    # Count the number of pixels above the threshold\n",
    "    num_saturated_pixels = cv2.countNonZero(cv2.inRange(gray_image, brightness_threshold, 255))\n",
    "\n",
    "    # Calculate the ratio of saturated pixels to total pixels\n",
    "    total_pixels = gray_image.size\n",
    "    saturation_ratio = num_saturated_pixels / total_pixels\n",
    "\n",
    "    # If the ratio is above a certain threshold, consider the image overexposed\n",
    "    overexposed_threshold = 0.05  # You can adjust this threshold as needed\n",
    "\n",
    "    is_overexposed = saturation_ratio > overexposed_threshold\n",
    "\n",
    "    if is_overexposed:\n",
    "        status = \"overexposed\"\n",
    "    \n",
    "    ################################################################\n",
    "    # End Check overexposition\n",
    "    ################################################################\n",
    "\n",
    "    \n",
    "    ################################################################\n",
    "    # Check blueish\n",
    "    ################################################################\n",
    "    \n",
    "    # Convert image to HSV color space\n",
    "    hsv_image = cv2.cvtColor(image, cv2.COLOR_BGR2HSV)\n",
    "\n",
    "    blue_lower = np.array([100, 50, 50], dtype=np.uint8)\n",
    "    blue_upper = np.array([140, 255, 255], dtype=np.uint8)\n",
    "\n",
    "    # Create masks to filter out dark and blueish regions\n",
    "    blue_mask = cv2.inRange(hsv_image, blue_lower, blue_upper)\n",
    "\n",
    "    # Check if there are dark or blueish pixels in the image\n",
    "    blue_pixels = cv2.countNonZero(blue_mask)\n",
    "\n",
    "    num_image_pixels = image.shape[0] * image.shape[1]\n",
    "    \n",
    "    is_blueish = blue_pixels > (num_image_pixels // 2)\n",
    "    if is_blueish:\n",
    "        if status == \"ok\":\n",
    "            status = \"blueish\"\n",
    "        else:\n",
    "            status = status + \"_blueish\"\n",
    "    \n",
    "    ################################################################\n",
    "    # End Check blueish\n",
    "    ################################################################\n",
    "\n",
    "\n",
    "    ################################################################\n",
    "    # Check darkness\n",
    "    ################################################################\n",
    "\n",
    "    # Calculate histogram\n",
    "    hist = cv2.calcHist([gray_image], [0], None, [256], [0, 256])\n",
    "\n",
    "    # Calculate total number of pixels\n",
    "    total_pixels = gray_image.shape[0] * gray_image.shape[1]\n",
    "\n",
    "    # Calculate cumulative histogram\n",
    "    cumulative_hist = np.cumsum(hist)\n",
    "\n",
    "    # Calculate cumulative percentage\n",
    "    cumulative_percentage = cumulative_hist / total_pixels\n",
    "\n",
    "    is_dark = np.argmax(cumulative_percentage > 0.8) < 65 #80 percent of pixels have value below 75\n",
    "\n",
    "    if is_dark:\n",
    "        if status == \"ok\":\n",
    "            status = \"dark\"\n",
    "        else:\n",
    "            status = status + \"_dark\"\n",
    "    \n",
    "    ################################################################\n",
    "    # End Check darkness\n",
    "    ################################################################\n",
    "            \n",
    "    ################################################################\n",
    "    # Check undersaturation\n",
    "    ################################################################\n",
    "    \n",
    "     # Calculate mean saturation level\n",
    "    mean_saturation = np.mean(hsv_image[:,:,1])\n",
    "    \n",
    "    # Determine if image is undersaturated\n",
    "    is_undersaturated = mean_saturation < undersaturation_threshold\n",
    "    if is_undersaturated:\n",
    "        if status == \"ok\":\n",
    "            status = \"undersaturated\"\n",
    "        else:\n",
    "            status = status + \"_undersaturated\"\n",
    "    \n",
    "    ################################################################\n",
    "    # End Check undersaturation\n",
    "    ################################################################\n",
    "    \n",
    "    \n",
    "    return status\n"
   ]
  },
  {
   "cell_type": "code",
   "execution_count": null,
   "metadata": {},
   "outputs": [],
   "source": [
    "# Read the image\n",
    "image_path = \"RESULTS/20240313-173943_sample_2024-03-06_All_Samples_as_PNGs_d=300_c=15_samples=10000_model=ema_0.9999_053460.pt_s=1.5/samples/0035_373.png\"\n",
    "image = cv2.imread(image_path, cv2.IMREAD_GRAYSCALE)\n",
    "\n",
    "# Calculate histogram\n",
    "hist = cv2.calcHist([image], [0], None, [256], [0, 256])\n",
    "\n",
    "# Calculate total number of pixels\n",
    "total_pixels = image.shape[0] * image.shape[1]\n",
    "\n",
    "# Calculate cumulative histogram\n",
    "cumulative_hist = np.cumsum(hist)\n",
    "\n",
    "# Calculate cumulative percentage\n",
    "cumulative_percentage = cumulative_hist / total_pixels\n",
    "\n",
    "# Find first and last bins with cumulative percentage above a threshold (adjust threshold as needed)\n",
    "start_bin = np.argmax(cumulative_percentage > 0.01)\n",
    "end_bin = np.argmax(cumulative_percentage > 0.99)\n",
    "\n",
    "# Calculate contrast\n",
    "contrast = end_bin - start_bin"
   ]
  },
  {
   "cell_type": "code",
   "execution_count": null,
   "metadata": {},
   "outputs": [],
   "source": [
    "np.argmax(cumulative_percentage > 0.8)"
   ]
  },
  {
   "cell_type": "code",
   "execution_count": null,
   "metadata": {},
   "outputs": [],
   "source": [
    "contrast"
   ]
  },
  {
   "cell_type": "code",
   "execution_count": null,
   "metadata": {},
   "outputs": [],
   "source": [
    "start_bin"
   ]
  },
  {
   "cell_type": "code",
   "execution_count": null,
   "metadata": {},
   "outputs": [],
   "source": []
  },
  {
   "cell_type": "code",
   "execution_count": null,
   "metadata": {},
   "outputs": [],
   "source": []
  },
  {
   "cell_type": "code",
   "execution_count": null,
   "metadata": {},
   "outputs": [],
   "source": [
    "def get_out_string(img_path):\n",
    "    out_str = \"\"\n",
    "    \n",
    "    if is_overexposed(img_path):\n",
    "        out_str += \", overexposed\"\n",
    "    \n",
    "    if is_blueish(img_path):\n",
    "        out_str += \", blue\"\n",
    "    \n",
    "    if is_dark(img_path):\n",
    "        out_str += \", dark\"\n",
    "    \n",
    "    if out_str == \"\":\n",
    "        out_str = \"good\"\n",
    "\n",
    "    return out_str\n",
    "    \n",
    "    \n",
    "folder_path = \"RESULTS/20240313-173943_sample_2024-03-06_All_Samples_as_PNGs_d=300_c=15_samples=10000_model=ema_0.9999_053460.pt_s=1.5/samples\"\n",
    "img_path = os.path.join(folder_path, \"0014_0.png\")\n",
    "print(get_out_string(img_path)) #good\n",
    "\n",
    "img_path = os.path.join(folder_path, \"0006_0.png\")\n",
    "print(get_out_string(img_path)) #dark\n",
    "\n",
    "img_path = os.path.join(folder_path, \"0007_0.png\")\n",
    "print(get_out_string(img_path)) #dark\n",
    "\n",
    "img_path = os.path.join(folder_path, \"0008_371.png\") #dark\n",
    "print(get_out_string(img_path))\n",
    "\n",
    "img_path = os.path.join(folder_path, \"0009_0.png\") #blue\n",
    "print(get_out_string(img_path))\n",
    "\n",
    "img_path = os.path.join(folder_path, \"0026_1.png\") #overexposed\n",
    "print(get_out_string(img_path))\n",
    "\n",
    "img_path = os.path.join(folder_path, \"0033_373.png\") #blue\n",
    "print(get_out_string(img_path))\n",
    "\n",
    "img_path = os.path.join(folder_path, \"0043_2.png\") #dark and blue\n",
    "print(get_out_string(img_path))\n",
    "\n",
    "img_path = os.path.join(folder_path, \"0046_2.png\") #blue\n",
    "print(get_out_string(img_path))\n",
    "\n",
    "img_path = os.path.join(folder_path, \"0065_375.png\") #dark\n",
    "print(get_out_string(img_path))\n",
    "\n",
    "img_path = os.path.join(folder_path, \"0036_2.png\") #good\n",
    "print(get_out_string(img_path))\n",
    "\n",
    "img_path = os.path.join(folder_path, \"0035_373.png\") #good\n",
    "print(get_out_string(img_path))\n"
   ]
  },
  {
   "cell_type": "code",
   "execution_count": null,
   "metadata": {},
   "outputs": [],
   "source": [
    "import os\n",
    "folder_path = \"RESULTS/20240315-194356_sample_2024-03-06_All_Samples_as_PNGs_d=300_c=15_samples=10000_model=ema_0.9999_053460.pt_s=1.5/samples\"\n",
    "image_paths = [p for p in os.listdir(folder_path) if p.endswith(\".png\")]\n",
    "image_states = [check_image(os.path.join(folder_path,path)) for path in image_paths]\n",
    "np.unique(image_states, return_counts=True)"
   ]
  },
  {
   "cell_type": "code",
   "execution_count": null,
   "metadata": {},
   "outputs": [],
   "source": [
    "# folder_path = \"RESULTS/20240315-194356_sample_2024-03-06_All_Samples_as_PNGs_d=300_c=15_samples=10000_model=ema_0.9999_053460.pt_s=1.5/labels\""
   ]
  },
  {
   "cell_type": "code",
   "execution_count": null,
   "metadata": {},
   "outputs": [],
   "source": [
    "import shutil\n",
    "for path, state in zip(image_paths, image_states):\n",
    "    full_path = os.path.join(folder_path, path)\n",
    "    if not os.path.isdir(os.path.join(folder_path, os.pardir, state, os.path.basename(folder_path))):\n",
    "        os.makedirs(os.path.join(folder_path, os.pardir, state, os.path.basename(folder_path)))\n",
    "    shutil.copyfile(full_path, os.path.join(folder_path, os.pardir, state, os.path.basename(folder_path), path))"
   ]
  },
  {
   "cell_type": "code",
   "execution_count": null,
   "metadata": {},
   "outputs": [],
   "source": [
    "orig_masks = np.zeros((len(orig_mask_paths), 128, 128), np.uint8)\n",
    "for i,p in enumerate(orig_mask_paths):\n",
    "    mask = (io.imread(p, as_gray=True)).astype(np.uint8)\n",
    "    orig_masks[i] = mask"
   ]
  },
  {
   "cell_type": "code",
   "execution_count": null,
   "metadata": {},
   "outputs": [],
   "source": [
    "np.unique(orig_masks)"
   ]
  },
  {
   "cell_type": "code",
   "execution_count": null,
   "metadata": {},
   "outputs": [],
   "source": [
    "plot_class_hist(orig_masks, 14)"
   ]
  },
  {
   "cell_type": "code",
   "execution_count": null,
   "metadata": {},
   "outputs": [],
   "source": [
    "all_masks = np.append(orig_masks, masks, axis=0)\n",
    "plot_class_hist(all_masks, 14)"
   ]
  },
  {
   "cell_type": "code",
   "execution_count": null,
   "metadata": {},
   "outputs": [],
   "source": [
    "plot_class_hist(all_masks[:(len(orig_masks)+10000)], 14)"
   ]
  },
  {
   "cell_type": "code",
   "execution_count": null,
   "metadata": {},
   "outputs": [],
   "source": [
    "#tmp"
   ]
  },
  {
   "cell_type": "code",
   "execution_count": null,
   "metadata": {},
   "outputs": [],
   "source": [
    "classes, indices, counts = np.unique(masks[np.nonzero(masks)], return_index=True, return_counts=True)"
   ]
  },
  {
   "cell_type": "code",
   "execution_count": null,
   "metadata": {},
   "outputs": [],
   "source": [
    "classes.dtype"
   ]
  },
  {
   "cell_type": "code",
   "execution_count": null,
   "metadata": {},
   "outputs": [],
   "source": [
    "indices"
   ]
  },
  {
   "cell_type": "code",
   "execution_count": null,
   "metadata": {},
   "outputs": [],
   "source": [
    "counts.dtype"
   ]
  },
  {
   "cell_type": "code",
   "execution_count": null,
   "metadata": {},
   "outputs": [],
   "source": [
    " Sampled 3454 masks. Class counts are [1701935  394098  427655  774944 1669687  614158  274631 1421449  193695\n",
    "  277820  595360 1857278   18015  261344]"
   ]
  },
  {
   "cell_type": "code",
   "execution_count": null,
   "metadata": {},
   "outputs": [],
   "source": [
    "np.unique(masks[:3454], return_counts=True)"
   ]
  },
  {
   "cell_type": "code",
   "execution_count": null,
   "metadata": {},
   "outputs": [],
   "source": [
    "np.unique(orig_masks, return_counts=True)"
   ]
  },
  {
   "cell_type": "code",
   "execution_count": null,
   "metadata": {},
   "outputs": [],
   "source": [
    "1006805 + 741956"
   ]
  },
  {
   "cell_type": "code",
   "execution_count": null,
   "metadata": {},
   "outputs": [],
   "source": [
    "get_class_counts_frequencies(masks, 14)[0]"
   ]
  },
  {
   "cell_type": "code",
   "execution_count": null,
   "metadata": {},
   "outputs": [],
   "source": [
    "np.unique(masks[np.nonzero(masks)], return_counts=True)[1]"
   ]
  },
  {
   "cell_type": "code",
   "execution_count": null,
   "metadata": {},
   "outputs": [],
   "source": [
    "balanced_file_indices[-2]"
   ]
  },
  {
   "cell_type": "code",
   "execution_count": null,
   "metadata": {},
   "outputs": [],
   "source": [
    "orig_mask_paths[2262]"
   ]
  },
  {
   "cell_type": "code",
   "execution_count": null,
   "metadata": {},
   "outputs": [],
   "source": [
    "files, counts = np.unique(file_list, return_counts=True)"
   ]
  },
  {
   "cell_type": "code",
   "execution_count": null,
   "metadata": {},
   "outputs": [],
   "source": [
    "np.any(counts > 1)"
   ]
  },
  {
   "cell_type": "code",
   "execution_count": null,
   "metadata": {},
   "outputs": [],
   "source": [
    "indices, idx_counts = np.unique(balanced_file_indices[-3631:], return_counts=True)"
   ]
  },
  {
   "cell_type": "code",
   "execution_count": null,
   "metadata": {},
   "outputs": [],
   "source": [
    "np.any(idx_counts > 1)"
   ]
  },
  {
   "cell_type": "code",
   "execution_count": null,
   "metadata": {},
   "outputs": [],
   "source": [
    "len(file_list)"
   ]
  },
  {
   "cell_type": "code",
   "execution_count": null,
   "metadata": {},
   "outputs": [],
   "source": [
    "file_list[1]"
   ]
  },
  {
   "cell_type": "code",
   "execution_count": null,
   "metadata": {},
   "outputs": [],
   "source": [
    "file_list[2]"
   ]
  },
  {
   "cell_type": "code",
   "execution_count": null,
   "metadata": {},
   "outputs": [],
   "source": []
  },
  {
   "cell_type": "code",
   "execution_count": null,
   "metadata": {},
   "outputs": [],
   "source": []
  },
  {
   "cell_type": "code",
   "execution_count": null,
   "metadata": {},
   "outputs": [],
   "source": [
    "import platform\n",
    "cpu_model = platform.processor()\n",
    "print(\"CPU model:\", cpu_model)"
   ]
  },
  {
   "cell_type": "code",
   "execution_count": null,
   "metadata": {},
   "outputs": [],
   "source": [
    "#end tmp"
   ]
  }
 ],
 "metadata": {
  "kernelspec": {
   "display_name": "sdm",
   "language": "python",
   "name": "python3"
  },
  "language_info": {
   "codemirror_mode": {
    "name": "ipython",
    "version": 3
   },
   "file_extension": ".py",
   "mimetype": "text/x-python",
   "name": "python",
   "nbconvert_exporter": "python",
   "pygments_lexer": "ipython3",
   "version": "3.10.11"
  }
 },
 "nbformat": 4,
 "nbformat_minor": 2
}
